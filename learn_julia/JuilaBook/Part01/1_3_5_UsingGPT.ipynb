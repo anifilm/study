{
 "cells": [
  {
   "cell_type": "code",
   "execution_count": 5,
   "metadata": {},
   "outputs": [],
   "source": [
    "using ReplGPT"
   ]
  },
  {
   "cell_type": "code",
   "execution_count": 6,
   "metadata": {},
   "outputs": [],
   "source": [
    "using DotEnv"
   ]
  },
  {
   "cell_type": "code",
   "execution_count": 10,
   "metadata": {},
   "outputs": [],
   "source": [
    "ReplGPT.setAPIkey(ENV[\"GPT_API_KEY\"])\n",
    "ReplGPT.setmodelname(\"gpt-3.5-turbo\")"
   ]
  },
  {
   "cell_type": "code",
   "execution_count": 16,
   "metadata": {},
   "outputs": [
    {
     "data": {
      "text/latex": [
       "Hi there! How can I help you today?\n",
       "\n"
      ],
      "text/markdown": [
       "Hi there! How can I help you today?\n"
      ],
      "text/plain": [
       "  Hi there! How can I help you today?"
      ]
     },
     "execution_count": 16,
     "metadata": {},
     "output_type": "execute_result"
    }
   ],
   "source": [
    "ReplGPT.call_chatgpt(\"Hello!\")"
   ]
  },
  {
   "cell_type": "code",
   "execution_count": 18,
   "metadata": {},
   "outputs": [
    {
     "data": {
      "text/latex": [
       "Julia is a high-level, high-performance programming language for technical computing, with syntax that is easy to read and write.\n",
       "\n"
      ],
      "text/markdown": [
       "Julia is a high-level, high-performance programming language for technical computing, with syntax that is easy to read and write.\n"
      ],
      "text/plain": [
       "  Julia is a high-level, high-performance programming language for technical\n",
       "  computing, with syntax that is easy to read and write."
      ]
     },
     "execution_count": 18,
     "metadata": {},
     "output_type": "execute_result"
    }
   ],
   "source": [
    "ReplGPT.call_chatgpt(\"Tell me about julia in one sentence\")"
   ]
  }
 ],
 "metadata": {
  "kernelspec": {
   "display_name": "Julia 1.10.2",
   "language": "julia",
   "name": "julia-1.10"
  },
  "language_info": {
   "file_extension": ".jl",
   "mimetype": "application/julia",
   "name": "julia",
   "version": "1.10.2"
  }
 },
 "nbformat": 4,
 "nbformat_minor": 2
}
