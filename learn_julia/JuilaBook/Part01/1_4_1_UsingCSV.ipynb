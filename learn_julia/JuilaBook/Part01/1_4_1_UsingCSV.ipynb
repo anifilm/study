{
 "cells": [
  {
   "cell_type": "code",
   "execution_count": 3,
   "metadata": {},
   "outputs": [],
   "source": [
    "using CSV"
   ]
  },
  {
   "cell_type": "code",
   "execution_count": 5,
   "metadata": {},
   "outputs": [],
   "source": [
    "using DataFrames"
   ]
  },
  {
   "cell_type": "code",
   "execution_count": 6,
   "metadata": {},
   "outputs": [
    {
     "data": {
      "text/html": [
       "<div><div style = \"float: left;\"><span>3×3 DataFrame</span></div><div style = \"clear: both;\"></div></div><div class = \"data-frame\" style = \"overflow-x: scroll;\"><table class = \"data-frame\" style = \"margin-bottom: 6px;\"><thead><tr class = \"header\"><th class = \"rowNumber\" style = \"font-weight: bold; text-align: right;\">Row</th><th style = \"text-align: left;\">number</th><th style = \"text-align: left;\">Eng</th><th style = \"text-align: left;\">Kor</th></tr><tr class = \"subheader headerLastRow\"><th class = \"rowNumber\" style = \"font-weight: bold; text-align: right;\"></th><th title = \"Any\" style = \"text-align: left;\">Any</th><th title = \"Any\" style = \"text-align: left;\">Any</th><th title = \"Any\" style = \"text-align: left;\">Any</th></tr></thead><tbody><tr><td class = \"rowNumber\" style = \"font-weight: bold; text-align: right;\">1</td><td style = \"text-align: left;\">1</td><td style = \"text-align: left;\">one</td><td style = \"text-align: left;\">일</td></tr><tr><td class = \"rowNumber\" style = \"font-weight: bold; text-align: right;\">2</td><td style = \"text-align: left;\">2</td><td style = \"text-align: left;\">two</td><td style = \"text-align: left;\">이</td></tr><tr><td class = \"rowNumber\" style = \"font-weight: bold; text-align: right;\">3</td><td style = \"text-align: left;\">3</td><td style = \"text-align: left;\">threee</td><td style = \"text-align: left;\">삼</td></tr></tbody></table></div>"
      ],
      "text/latex": [
       "\\begin{tabular}{r|ccc}\n",
       "\t& number & Eng & Kor\\\\\n",
       "\t\\hline\n",
       "\t& Any & Any & Any\\\\\n",
       "\t\\hline\n",
       "\t1 & 1 & one & 일 \\\\\n",
       "\t2 & 2 & two & 이 \\\\\n",
       "\t3 & 3 & threee & 삼 \\\\\n",
       "\\end{tabular}\n"
      ],
      "text/plain": [
       "\u001b[1m3×3 DataFrame\u001b[0m\n",
       "\u001b[1m Row \u001b[0m│\u001b[1m number \u001b[0m\u001b[1m Eng    \u001b[0m\u001b[1m Kor \u001b[0m\n",
       "     │\u001b[90m Any    \u001b[0m\u001b[90m Any    \u001b[0m\u001b[90m Any \u001b[0m\n",
       "─────┼─────────────────────\n",
       "   1 │ 1       one     일\n",
       "   2 │ 2       two     이\n",
       "   3 │ 3       threee  삼"
      ]
     },
     "execution_count": 6,
     "metadata": {},
     "output_type": "execute_result"
    }
   ],
   "source": [
    "df = DataFrame([1 \"one\" \"일\"\n",
    "                2 \"two\" \"이\"\n",
    "                3 \"three\" \"삼\"], [:number, :Eng, :Kor])"
   ]
  },
  {
   "cell_type": "code",
   "execution_count": 7,
   "metadata": {},
   "outputs": [
    {
     "data": {
      "text/plain": [
       "\"example.csv\""
      ]
     },
     "execution_count": 7,
     "metadata": {},
     "output_type": "execute_result"
    }
   ],
   "source": [
    "CSV.write(\"example.csv\", df)"
   ]
  },
  {
   "cell_type": "code",
   "execution_count": 9,
   "metadata": {},
   "outputs": [
    {
     "data": {
      "text/html": [
       "<div><div style = \"float: left;\"><span>6×3 DataFrame</span></div><div style = \"clear: both;\"></div></div><div class = \"data-frame\" style = \"overflow-x: scroll;\"><table class = \"data-frame\" style = \"margin-bottom: 6px;\"><thead><tr class = \"header\"><th class = \"rowNumber\" style = \"font-weight: bold; text-align: right;\">Row</th><th style = \"text-align: left;\">number</th><th style = \"text-align: left;\">Eng</th><th style = \"text-align: left;\">Kor</th></tr><tr class = \"subheader headerLastRow\"><th class = \"rowNumber\" style = \"font-weight: bold; text-align: right;\"></th><th title = \"Int64\" style = \"text-align: left;\">Int64</th><th title = \"String7\" style = \"text-align: left;\">String7</th><th title = \"String3\" style = \"text-align: left;\">String3</th></tr></thead><tbody><tr><td class = \"rowNumber\" style = \"font-weight: bold; text-align: right;\">1</td><td style = \"text-align: right;\">1</td><td style = \"text-align: left;\">one</td><td style = \"text-align: left;\">일</td></tr><tr><td class = \"rowNumber\" style = \"font-weight: bold; text-align: right;\">2</td><td style = \"text-align: right;\">2</td><td style = \"text-align: left;\">two</td><td style = \"text-align: left;\">이</td></tr><tr><td class = \"rowNumber\" style = \"font-weight: bold; text-align: right;\">3</td><td style = \"text-align: right;\">3</td><td style = \"text-align: left;\">three</td><td style = \"text-align: left;\">삼</td></tr><tr><td class = \"rowNumber\" style = \"font-weight: bold; text-align: right;\">4</td><td style = \"text-align: right;\">4</td><td style = \"text-align: left;\">four</td><td style = \"text-align: left;\">사</td></tr><tr><td class = \"rowNumber\" style = \"font-weight: bold; text-align: right;\">5</td><td style = \"text-align: right;\">5</td><td style = \"text-align: left;\">five</td><td style = \"text-align: left;\">오</td></tr><tr><td class = \"rowNumber\" style = \"font-weight: bold; text-align: right;\">6</td><td style = \"text-align: right;\">6</td><td style = \"text-align: left;\">six</td><td style = \"text-align: left;\">육</td></tr></tbody></table></div>"
      ],
      "text/latex": [
       "\\begin{tabular}{r|ccc}\n",
       "\t& number & Eng & Kor\\\\\n",
       "\t\\hline\n",
       "\t& Int64 & String7 & String3\\\\\n",
       "\t\\hline\n",
       "\t1 & 1 & one & 일 \\\\\n",
       "\t2 & 2 & two & 이 \\\\\n",
       "\t3 & 3 & three & 삼 \\\\\n",
       "\t4 & 4 & four & 사 \\\\\n",
       "\t5 & 5 & five & 오 \\\\\n",
       "\t6 & 6 & six & 육 \\\\\n",
       "\\end{tabular}\n"
      ],
      "text/plain": [
       "\u001b[1m6×3 DataFrame\u001b[0m\n",
       "\u001b[1m Row \u001b[0m│\u001b[1m number \u001b[0m\u001b[1m Eng     \u001b[0m\u001b[1m Kor     \u001b[0m\n",
       "     │\u001b[90m Int64  \u001b[0m\u001b[90m String7 \u001b[0m\u001b[90m String3 \u001b[0m\n",
       "─────┼──────────────────────────\n",
       "   1 │      1  one      일\n",
       "   2 │      2  two      이\n",
       "   3 │      3  three    삼\n",
       "   4 │      4  four     사\n",
       "   5 │      5  five     오\n",
       "   6 │      6  six      육"
      ]
     },
     "execution_count": 9,
     "metadata": {},
     "output_type": "execute_result"
    }
   ],
   "source": [
    "CSV.read(\"example.csv\", DataFrame)"
   ]
  }
 ],
 "metadata": {
  "kernelspec": {
   "display_name": "Julia 1.10.2",
   "language": "julia",
   "name": "julia-1.10"
  },
  "language_info": {
   "file_extension": ".jl",
   "mimetype": "application/julia",
   "name": "julia",
   "version": "1.10.2"
  }
 },
 "nbformat": 4,
 "nbformat_minor": 2
}
